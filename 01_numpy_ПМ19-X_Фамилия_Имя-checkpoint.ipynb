{
 "cells": [
  {
   "cell_type": "markdown",
   "metadata": {},
   "source": [
    "# Numpy"
   ]
  },
  {
   "cell_type": "markdown",
   "metadata": {},
   "source": [
    "Материалы:\n",
    "* Макрушин С.В. \"Лекция 1: Библиотека Numpy\"\n",
    "* https://numpy.org/doc/stable/user/index.html\n",
    "* https://numpy.org/doc/stable/reference/index.html"
   ]
  },
  {
   "cell_type": "markdown",
   "metadata": {},
   "source": [
    "## Задачи для совместного разбора"
   ]
  },
  {
   "cell_type": "markdown",
   "metadata": {},
   "source": [
    "1. Сгенерировать двухмерный массив `arr` размерности (4, 7), состоящий из случайных действительных чисел, равномерно распределенных в диапазоне от 0 до 20. Нормализовать значения массива с помощью преобразования вида  $𝑎𝑥+𝑏$  так, что после нормализации максимальный элемент масcива будет равен 1.0, минимальный 0.0"
   ]
  },
  {
   "cell_type": "code",
   "execution_count": null,
   "metadata": {},
   "outputs": [],
   "source": []
  },
  {
   "cell_type": "markdown",
   "metadata": {},
   "source": [
    "2. Создать матрицу 8 на 10 из случайных целых (используя модуль `numpy.random`) чисел из диапозона от 0 до 10 и найти в ней строку (ее индекс и вывести саму строку), в которой сумма значений минимальна."
   ]
  },
  {
   "cell_type": "markdown",
   "metadata": {},
   "source": [
    "3. Найти евклидово расстояние между двумя одномерными векторами одинаковой размерности."
   ]
  },
  {
   "cell_type": "markdown",
   "metadata": {},
   "source": [
    "4. Решить матричное уравнение `A*X*B=-C` - найти матрицу `X`. Где `A = [[-1, 2, 4], [-3, 1, 2], [-3, 0, 1]]`, `B=[[3, -1], [2, 1]]`, `C=[[7, 21], [11, 8], [8, 4]]`."
   ]
  },
  {
   "cell_type": "markdown",
   "metadata": {},
   "source": [
    "## Лабораторная работа №1"
   ]
  },
  {
   "cell_type": "markdown",
   "metadata": {},
   "source": [
    "Замечание: при решении данных задач не подразумевается использования циклов или генераторов Python, если в задании не сказано обратного. Решение должно опираться на использования функционала библиотеки `numpy`."
   ]
  },
  {
   "cell_type": "markdown",
   "metadata": {},
   "source": [
    "1. Файл `minutes_n_ingredients.csv` содержит информацию об идентификаторе рецепта, времени его выполнения в минутах и количестве необходимых ингредиентов. Считайте данные из этого файла в виде массива `numpy` типа `int32`, используя `np.loadtxt`. Выведите на экран первые 5 строк массива."
   ]
  },
  {
   "cell_type": "code",
   "execution_count": 24,
   "metadata": {},
   "outputs": [
    {
     "data": {
      "text/plain": [
       "array([[127244,     60,     16],\n",
       "       [ 23891,     25,      7],\n",
       "       [ 94746,     10,      6],\n",
       "       [ 67660,      5,      6],\n",
       "       [157911,     60,     14]])"
      ]
     },
     "execution_count": 24,
     "metadata": {},
     "output_type": "execute_result"
    }
   ],
   "source": [
    "# 1 задание\n",
    "import numpy as np\n",
    "\n",
    "a = np.loadtxt('minutes_n_ingredients.csv', delimiter=',', dtype=np.int32 )\n",
    "lines = [0, 1, 2, 3, 4]\n",
    "a[lines, :]"
   ]
  },
  {
   "cell_type": "markdown",
   "metadata": {},
   "source": [
    "2. Вычислите среднее значение, минимум, максимум и медиану по каждому из столбцов, кроме первого."
   ]
  },
  {
   "cell_type": "code",
   "execution_count": 39,
   "metadata": {},
   "outputs": [
    {
     "data": {
      "text/plain": [
       "array([40.,  9.])"
      ]
     },
     "execution_count": 39,
     "metadata": {},
     "output_type": "execute_result"
    }
   ],
   "source": [
    "#Задание 2 среднее значение\n",
    "import numpy as np\n",
    "\n",
    "a = np.loadtxt('minutes_n_ingredients.csv', delimiter=',', dtype=np.int32 )\n",
    "columns = [1,2]\n",
    "a1 = a[:, columns]\n",
    "np.mean(a1, axis= 0, dtype=np.int32)\n"
   ]
  },
  {
   "cell_type": "code",
   "execution_count": 40,
   "metadata": {},
   "outputs": [
    {
     "data": {
      "text/plain": [
       "array([40.,  9.])"
      ]
     },
     "execution_count": 40,
     "metadata": {},
     "output_type": "execute_result"
    }
   ],
   "source": [
    "#Задание 2 медиана\n",
    "import numpy as np\n",
    "\n",
    "a = np.loadtxt('minutes_n_ingredients.csv', delimiter=',', dtype=np.int32 )\n",
    "columns = [1,2]\n",
    "a1 = a[:, columns]\n",
    "\n",
    "np.median(a1, axis= 0)"
   ]
  },
  {
   "cell_type": "code",
   "execution_count": 5,
   "metadata": {},
   "outputs": [
    {
     "data": {
      "text/plain": [
       "array([2147483647,         39])"
      ]
     },
     "execution_count": 5,
     "metadata": {},
     "output_type": "execute_result"
    }
   ],
   "source": [
    "#Задание 2 максимальное значение\n",
    "import numpy as np\n",
    "\n",
    "a = np.loadtxt('minutes_n_ingredients.csv', delimiter=',', dtype=np.int32 )\n",
    "columns = [1,2]\n",
    "a1 = a[:, columns]\n",
    "\n",
    "np.amax(a1, axis= 0)"
   ]
  },
  {
   "cell_type": "code",
   "execution_count": 42,
   "metadata": {},
   "outputs": [
    {
     "data": {
      "text/plain": [
       "array([0, 1])"
      ]
     },
     "execution_count": 42,
     "metadata": {},
     "output_type": "execute_result"
    }
   ],
   "source": [
    "#Задание 2 минииальное значение\n",
    "import numpy as np\n",
    "\n",
    "a = np.loadtxt('minutes_n_ingredients.csv', delimiter=',', dtype=np.int32 )\n",
    "columns = [1,2]\n",
    "a1 = a[:, columns]\n",
    "\n",
    "np.amin(a1, axis= 0)"
   ]
  },
  {
   "cell_type": "markdown",
   "metadata": {},
   "source": [
    "3. Ограничьте сверху значения продолжительности выполнения рецепта значением квантиля $q_{0.75}$. "
   ]
  },
  {
   "cell_type": "code",
   "execution_count": 12,
   "metadata": {},
   "outputs": [
    {
     "data": {
      "text/plain": [
       "65.0"
      ]
     },
     "execution_count": 12,
     "metadata": {},
     "output_type": "execute_result"
    }
   ],
   "source": [
    "#Задание 3\n",
    "import numpy as np\n",
    "a = np.loadtxt('minutes_n_ingredients.csv', delimiter=',', dtype=np.int32 )\n",
    "columns = [1]\n",
    "a1 = a[:, columns]\n",
    "\n",
    "np.quantile(a1, q = 0.75)"
   ]
  },
  {
   "cell_type": "markdown",
   "metadata": {},
   "source": [
    "4. Посчитайте, для скольких рецептов указана продолжительность, равная нулю. Замените для таких строк значение в данном столбце на 1."
   ]
  },
  {
   "cell_type": "code",
   "execution_count": 27,
   "metadata": {
    "scrolled": true
   },
   "outputs": [
    {
     "data": {
      "text/plain": [
       "array([ 60,  25,  10, ...,  65,   5, 140])"
      ]
     },
     "execution_count": 27,
     "metadata": {},
     "output_type": "execute_result"
    }
   ],
   "source": [
    "import numpy as np\n",
    "a = np.loadtxt('minutes_n_ingredients.csv', delimiter=',', dtype=np.int32 )\n",
    "a1 = a[:, 1]\n",
    "a1[a1 == 0] = 1\n",
    "a1"
   ]
  },
  {
   "cell_type": "markdown",
   "metadata": {},
   "source": [
    "5. Посчитайте, сколько уникальных рецептов находится в датасете."
   ]
  },
  {
   "cell_type": "code",
   "execution_count": 8,
   "metadata": {},
   "outputs": [
    {
     "data": {
      "text/plain": [
       "100545"
      ]
     },
     "execution_count": 8,
     "metadata": {},
     "output_type": "execute_result"
    }
   ],
   "source": [
    "import numpy as np\n",
    "a = np.loadtxt('minutes_n_ingredients.csv', delimiter=',', dtype=np.int32 )\n",
    "len(np.unique (a))"
   ]
  },
  {
   "cell_type": "markdown",
   "metadata": {},
   "source": [
    "6. Сколько и каких различных значений кол-ва ингредиентов присутвует в рецептах из датасета?"
   ]
  },
  {
   "cell_type": "code",
   "execution_count": 22,
   "metadata": {},
   "outputs": [
    {
     "data": {
      "text/plain": [
       "array([ 1,  2,  3,  4,  5,  6,  7,  8,  9, 10, 11, 12, 13, 14, 15, 16, 17,\n",
       "       18, 19, 20, 21, 22, 23, 24, 25, 26, 27, 28, 29, 30, 31, 32, 33, 34,\n",
       "       35, 37, 39])"
      ]
     },
     "execution_count": 22,
     "metadata": {},
     "output_type": "execute_result"
    }
   ],
   "source": [
    "import numpy as np\n",
    "a = np.loadtxt('minutes_n_ingredients.csv', delimiter=',', dtype=np.int32 )\n",
    "np.unique (a[:,2])\n",
    "\n"
   ]
  },
  {
   "cell_type": "code",
   "execution_count": 19,
   "metadata": {},
   "outputs": [
    {
     "data": {
      "text/plain": [
       "37"
      ]
     },
     "execution_count": 19,
     "metadata": {},
     "output_type": "execute_result"
    }
   ],
   "source": [
    "import numpy as np\n",
    "a = np.loadtxt('minutes_n_ingredients.csv', delimiter=',', dtype=np.int32 )\n",
    "len(np.unique (a[:,2]))\n",
    "\n"
   ]
  },
  {
   "cell_type": "markdown",
   "metadata": {},
   "source": [
    "7. Создайте версию массива, содержащую информацию только о рецептах, состоящих не более чем из 5 ингредиентов."
   ]
  },
  {
   "cell_type": "code",
   "execution_count": 21,
   "metadata": {},
   "outputs": [
    {
     "data": {
      "text/plain": [
       "array([[446597,     15,      5],\n",
       "       [204134,      5,      3],\n",
       "       [ 25623,      6,      4],\n",
       "       ...,\n",
       "       [ 52088,     60,      5],\n",
       "       [128811,     15,      4],\n",
       "       [370915,      5,      4]])"
      ]
     },
     "execution_count": 21,
     "metadata": {},
     "output_type": "execute_result"
    }
   ],
   "source": [
    "import numpy as np\n",
    "a = np.loadtxt('minutes_n_ingredients.csv', delimiter=',', dtype=np.int32 )\n",
    "b = a[:,2] <= 5\n",
    "z = a[b, :]\n",
    "z"
   ]
  },
  {
   "cell_type": "markdown",
   "metadata": {},
   "source": [
    "8. Для каждого рецепта посчитайте, сколько в среднем ингредиентов приходится на одну минуту рецепта. Найдите максимальное значение этой величины для всего датасета"
   ]
  },
  {
   "cell_type": "code",
   "execution_count": 4,
   "metadata": {},
   "outputs": [
    {
     "data": {
      "text/plain": [
       "268435455.875"
      ]
     },
     "execution_count": 4,
     "metadata": {},
     "output_type": "execute_result"
    }
   ],
   "source": [
    "import numpy as np\n",
    "a = np.loadtxt('minutes_n_ingredients.csv', delimiter=',', dtype=np.int32 )\n",
    "a = a[:,1] / a[:,2]\n",
    "np.amax(a)"
   ]
  },
  {
   "cell_type": "markdown",
   "metadata": {},
   "source": [
    "9. Вычислите среднее количество ингредиентов для топ-100 рецептов с наибольшей продолжительностью"
   ]
  },
  {
   "cell_type": "code",
   "execution_count": 5,
   "metadata": {},
   "outputs": [
    {
     "name": "stdout",
     "output_type": "stream",
     "text": [
      "6.63\n"
     ]
    }
   ],
   "source": [
    "import numpy as np\n",
    "\n",
    "data = np.loadtxt('minutes_n_ingredients.csv', delimiter=',', skiprows=1, usecols=(1, 2))\n",
    "sorted_indices = np.argsort(data[:, 0])[::-1]\n",
    "sorted_data = data[sorted_indices]\n",
    "top_data = sorted_data[:100]\n",
    "mean_ingredients = np.mean(top_data[:, 1])\n",
    "print(mean_ingredients)\n",
    "\n"
   ]
  },
  {
   "cell_type": "markdown",
   "metadata": {},
   "source": [
    "10. Выберите случайным образом и выведите информацию о 10 различных рецептах"
   ]
  },
  {
   "cell_type": "code",
   "execution_count": 18,
   "metadata": {},
   "outputs": [
    {
     "name": "stdout",
     "output_type": "stream",
     "text": [
      "       127244   60  16\n",
      "27495  493081   10   8\n",
      "15749   88124   20   7\n",
      "55023  114285   27   5\n",
      "55381  295816   45  14\n",
      "87359   86000   40  12\n",
      "9218   129284  140   4\n",
      "64414  182579   75   4\n",
      "61653  315271  140   6\n",
      "32614  207418   95  11\n",
      "45506   84823   45  13\n"
     ]
    }
   ],
   "source": [
    "import pandas as pd\n",
    "import numpy as np\n",
    "df = pd.read_csv('minutes_n_ingredients.csv')\n",
    "random_indices = np.random.choice(df.index, size=10, replace=False)\n",
    "random_recipes = df.iloc[random_indices, [0, 1, 2]]\n",
    "print(random_recipes)"
   ]
  },
  {
   "cell_type": "markdown",
   "metadata": {},
   "source": [
    "11. Выведите процент рецептов, кол-во ингредиентов в которых меньше среднего."
   ]
  },
  {
   "cell_type": "code",
   "execution_count": 13,
   "metadata": {},
   "outputs": [
    {
     "data": {
      "text/plain": [
       "48.217"
      ]
     },
     "execution_count": 13,
     "metadata": {},
     "output_type": "execute_result"
    }
   ],
   "source": [
    "import numpy as np\n",
    "a = np.loadtxt('minutes_n_ingredients.csv', delimiter=',', dtype=np.int32 )\n",
    "x = np.mean(a[:,2], axis= 0, dtype=np.int32)\n",
    "t = len(a[:,2])\n",
    "b = a[:,2] < x\n",
    "z = a[b, :]\n",
    "y = len(z)\n",
    "result = (y * 100)/t\n",
    "result"
   ]
  },
  {
   "cell_type": "markdown",
   "metadata": {},
   "source": [
    "12. Назовем \"простым\" такой рецепт, длительность выполнения которого не больше 20 минут и кол-во ингредиентов в котором не больше 5. Создайте версию датасета с дополнительным столбцом, значениями которого являются 1, если рецепт простой, и 0 в противном случае."
   ]
  },
  {
   "cell_type": "code",
   "execution_count": 36,
   "metadata": {},
   "outputs": [
    {
     "name": "stdout",
     "output_type": "stream",
     "text": [
      "[['127244' '60' '16' '0']\n",
      " ['23891' '25' '7' '0']\n",
      " ['94746' '10' '6' '1']\n",
      " ...\n",
      " ['498432' '65' '15' '0']\n",
      " ['370915' '5' '4' '1']\n",
      " ['81993' '140' '14' '0']]\n"
     ]
    }
   ],
   "source": [
    "import numpy as np\n",
    "\n",
    "\n",
    "recipes = np.genfromtxt('minutes_n_ingredients.csv', delimiter=',', dtype=str)\n",
    "\n",
    "\n",
    "names = recipes[:, 0]\n",
    "times = recipes[:, 1]\n",
    "ingredients = recipes[:, 2]\n",
    "\n",
    "simple_recipe = []\n",
    "for i in range(len(recipes)):\n",
    "    recipe_time = int(times[i])\n",
    "    recipe_ingredients = len(ingredients[i].split(','))\n",
    "    if recipe_time <= 20 and recipe_ingredients <= 5:\n",
    "        simple_recipe.append(1)\n",
    "    else:\n",
    "        simple_recipe.append(0)\n",
    "\n",
    "\n",
    "simple_recipes = np.column_stack((recipes, simple_recipe))\n",
    "print(simple_recipes)"
   ]
  },
  {
   "cell_type": "markdown",
   "metadata": {},
   "source": [
    "13. Выведите процент \"простых\" рецептов в датасете"
   ]
  },
  {
   "cell_type": "code",
   "execution_count": 37,
   "metadata": {},
   "outputs": [
    {
     "data": {
      "text/plain": [
       "26.65"
      ]
     },
     "execution_count": 37,
     "metadata": {},
     "output_type": "execute_result"
    }
   ],
   "source": [
    "import numpy as np\n",
    "\n",
    "\n",
    "recipes = np.genfromtxt('minutes_n_ingredients.csv', delimiter=',', dtype=str)\n",
    "\n",
    "\n",
    "names = recipes[:, 0]\n",
    "times = recipes[:, 1]\n",
    "ingredients = recipes[:, 2]\n",
    "\n",
    "simple_recipe = []\n",
    "for i in range(len(recipes)):\n",
    "    recipe_time = int(times[i])\n",
    "    recipe_ingredients = len(ingredients[i].split(','))\n",
    "    if recipe_time <= 20 and recipe_ingredients <= 5:\n",
    "        simple_recipe.append(1)\n",
    "    else:\n",
    "        simple_recipe.append(0)\n",
    "\n",
    "\n",
    "simple_recipes = np.column_stack((recipes, simple_recipe))\n",
    "np.savetxt('simple_recipes.csv', simple_recipes, delimiter=',', fmt='%s')\n",
    "a = np.loadtxt('simple_recipes.csv', delimiter=',', dtype=np.int32 )\n",
    "t = len(a[:,3])\n",
    "b = a[:,3] == 1\n",
    "z = a[b,:]\n",
    "y = len(z)\n",
    "result = (y * 100)/t\n",
    "result\n",
    "\n"
   ]
  },
  {
   "cell_type": "markdown",
   "metadata": {},
   "source": [
    "14. Разделим рецепты на группы по следующему правилу. Назовем рецепты короткими, если их продолжительность составляет менее 10 минут; стандартными, если их продолжительность составляет более 10, но менее 20 минут; и длинными, если их продолжительность составляет не менее 20 минут. Создайте трехмерный массив, где нулевая ось отвечает за номер группы (короткий, стандартный или длинный рецепт), первая ось - за сам рецепт и вторая ось - за характеристики рецепта. Выберите максимальное количество рецептов из каждой группы таким образом, чтобы было возможно сформировать трехмерный массив. Выведите форму полученного массива."
   ]
  },
  {
   "cell_type": "code",
   "execution_count": 6,
   "metadata": {},
   "outputs": [
    {
     "name": "stdout",
     "output_type": "stream",
     "text": [
      "(3, 30, 1)\n"
     ]
    }
   ],
   "source": [
    "import numpy as np\n",
    "\n",
    "# загрузка данных\n",
    "data = np.loadtxt('minutes_n_ingredients.csv', delimiter=',', dtype=np.int32 )\n",
    "\n",
    "# разделение рецептов на группы\n",
    "short_recipes = data[data[:, 1] < 10]\n",
    "standard_recipes = data[(data[:, 1] >= 10) & (data[:, 1] < 20)]\n",
    "long_recipes = data[data[:, 1] >= 20]\n",
    "\n",
    "# выбор максимального количества рецептов из каждой группы\n",
    "short_recipes = short_recipes[:5]\n",
    "standard_recipes = standard_recipes[:10]\n",
    "long_recipes = long_recipes[:15]\n",
    "\n",
    "# создание трехмерного массива\n",
    "recipes = np.zeros((3, len(short_recipes) + len(standard_recipes) + len(long_recipes), 1))\n",
    "\n",
    "# заполнение массива данными\n",
    "recipes[0, :len(short_recipes), 0] = short_recipes[:, 1]\n",
    "recipes[1, :len(standard_recipes), 0] = standard_recipes[:, 1]\n",
    "recipes[2, :len(long_recipes), 0] = long_recipes[:, 1]\n",
    "\n",
    "# вывод формы массива\n",
    "print(recipes.shape)\n",
    "\n",
    "\n",
    "\n"
   ]
  },
  {
   "cell_type": "code",
   "execution_count": null,
   "metadata": {},
   "outputs": [],
   "source": []
  }
 ],
 "metadata": {
  "kernelspec": {
   "display_name": "Python 3 (ipykernel)",
   "language": "python",
   "name": "python3"
  },
  "language_info": {
   "codemirror_mode": {
    "name": "ipython",
    "version": 3
   },
   "file_extension": ".py",
   "mimetype": "text/x-python",
   "name": "python",
   "nbconvert_exporter": "python",
   "pygments_lexer": "ipython3",
   "version": "3.9.13"
  }
 },
 "nbformat": 4,
 "nbformat_minor": 4
}
